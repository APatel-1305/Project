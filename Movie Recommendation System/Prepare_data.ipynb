{
 "cells": [
  {
   "cell_type": "code",
   "execution_count": 1,
   "id": "731344c2-a690-4b3b-91e1-a5965621b188",
   "metadata": {},
   "outputs": [],
   "source": [
    "import pandas as pd\n",
    "import os"
   ]
  },
  {
   "cell_type": "code",
   "execution_count": 3,
   "id": "9d6d5fdc-85f0-4743-a390-650ecfdd5773",
   "metadata": {},
   "outputs": [],
   "source": [
    "# Create data directory\n",
    "os.makedirs(\"data\", exist_ok=True)"
   ]
  },
  {
   "cell_type": "code",
   "execution_count": 7,
   "id": "d0cf6627-e262-455f-9a68-409a7053213d",
   "metadata": {},
   "outputs": [],
   "source": [
    "# Load u.data and convert to ratings.csv\n",
    "ratings = pd.read_csv('ml-100k/u.data', sep='\\t', names=['userId', 'movieId', 'rating', 'timestamp'])\n",
    "ratings.to_csv('data/ratings.csv', index=False)"
   ]
  },
  {
   "cell_type": "code",
   "execution_count": 9,
   "id": "bcdf1e7a-7dd0-4e7b-a53d-afc91eecfaca",
   "metadata": {},
   "outputs": [],
   "source": [
    "# Load u.item and convert to movies.csv\n",
    "movies = pd.read_csv(\n",
    "    'ml-100k/u.item',\n",
    "    sep='|',\n",
    "    encoding='latin-1',\n",
    "    header=None,\n",
    "    names=['movieId', 'title', 'release_date', 'video_release_date', 'IMDb_URL'] + [f'genre_{i}' for i in range(19)]\n",
    ")"
   ]
  },
  {
   "cell_type": "code",
   "execution_count": 15,
   "id": "c31aabb2-f4c5-4c6a-85ef-5a3a75c7bf53",
   "metadata": {},
   "outputs": [],
   "source": [
    "# List of genres from MovieLens 100K\n",
    "genre_names = ['unknown', 'Action', 'Adventure', 'Animation', \"Children's\", 'Comedy', 'Crime',\n",
    "               'Documentary', 'Drama', 'Fantasy', 'Film-Noir', 'Horror', 'Musical',\n",
    "               'Mystery', 'Romance', 'Sci-Fi', 'Thriller', 'War', 'Western']\n",
    "\n",
    "# Assign column names to u.item\n",
    "genre_cols = [f'genre_{i}' for i in range(len(genre_names))]\n",
    "movies = pd.read_csv(\n",
    "    'ml-100k/u.item',\n",
    "    sep='|',\n",
    "    encoding='latin-1',\n",
    "    header=None,\n",
    "    names=['movieId', 'title', 'release_date', 'video_release_date', 'IMDb_URL'] + genre_cols\n",
    ")\n",
    "\n",
    "# Convert genre indicator columns into actual genre names\n",
    "movies['genres'] = movies[genre_cols].apply(\n",
    "    lambda row: '|'.join([genre_names[i] for i, val in enumerate(row) if val == 1]),\n",
    "    axis=1\n",
    ")\n",
    "\n",
    "# Keep only needed columns\n",
    "movies = movies[['movieId', 'title', 'genres']]\n",
    "movies.to_csv('data/movies.csv', index=False)"
   ]
  },
  {
   "cell_type": "code",
   "execution_count": 17,
   "id": "31cd5f53-b407-4741-8bb6-e70f74683f06",
   "metadata": {},
   "outputs": [
    {
     "name": "stdout",
     "output_type": "stream",
     "text": [
      "✅ ratings.csv and movies.csv saved in /data\n"
     ]
    }
   ],
   "source": [
    "print(\"✅ ratings.csv and movies.csv saved in /data\")"
   ]
  },
  {
   "cell_type": "code",
   "execution_count": null,
   "id": "1ec92cfa-a9f9-4543-94e8-dfb81a5f93bb",
   "metadata": {},
   "outputs": [],
   "source": []
  }
 ],
 "metadata": {
  "kernelspec": {
   "display_name": "Python 3 (ipykernel)",
   "language": "python",
   "name": "python3"
  },
  "language_info": {
   "codemirror_mode": {
    "name": "ipython",
    "version": 3
   },
   "file_extension": ".py",
   "mimetype": "text/x-python",
   "name": "python",
   "nbconvert_exporter": "python",
   "pygments_lexer": "ipython3",
   "version": "3.12.4"
  }
 },
 "nbformat": 4,
 "nbformat_minor": 5
}
